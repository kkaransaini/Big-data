{
  "nbformat": 4,
  "nbformat_minor": 0,
  "metadata": {
    "colab": {
      "provenance": [],
      "authorship_tag": "ABX9TyOBPsOudtv/j38oQNSg2BMu",
      "include_colab_link": true
    },
    "kernelspec": {
      "name": "python3",
      "display_name": "Python 3"
    },
    "language_info": {
      "name": "python"
    }
  },
  "cells": [
    {
      "cell_type": "markdown",
      "metadata": {
        "id": "view-in-github",
        "colab_type": "text"
      },
      "source": [
        "<a href=\"https://colab.research.google.com/github/kkaransaini/Big-data/blob/main/labeval_group2_202301029.ipynb\" target=\"_parent\"><img src=\"https://colab.research.google.com/assets/colab-badge.svg\" alt=\"Open In Colab\"/></a>"
      ]
    },
    {
      "cell_type": "code",
      "execution_count": null,
      "metadata": {
        "id": "X6QHk6MucMTx"
      },
      "outputs": [],
      "source": [
        "import numpy as np\n",
        "array= np.array([10,52,62,16,16,54,453])\n",
        "arr = np.sort(array)\n",
        "print(arr)\n",
        "\n",
        "indwx = np.argsort(array)\n",
        "print(indwx)\n",
        "\n",
        "t = 4\n",
        "\n",
        "print(s[:t])\n",
        "\n",
        "m = 6\n",
        "\n",
        "print(s[-m:])"
      ]
    }
  ]
}